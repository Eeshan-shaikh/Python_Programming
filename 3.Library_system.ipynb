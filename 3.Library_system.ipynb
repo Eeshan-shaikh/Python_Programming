{
 "cells": [
  {
   "cell_type": "code",
   "execution_count": 1,
   "id": "e334a043-9204-4a3e-9f0f-ebc0d3047ab1",
   "metadata": {},
   "outputs": [
    {
     "name": "stdout",
     "output_type": "stream",
     "text": [
      "\n",
      "====== Library Menu ======\n",
      "1. Add Book\n",
      "2. Remove Book\n",
      "3. View All Books\n",
      "4. Issue Book\n",
      "5. Return Book\n",
      "6. View Issued Books\n",
      "7. Exit\n"
     ]
    },
    {
     "name": "stdin",
     "output_type": "stream",
     "text": [
      "Enter choice (1-7):  1\n",
      "Enter Book ID:  01\n",
      "Enter Book Title:  abc\n",
      "Enter Author:  abc\n"
     ]
    },
    {
     "name": "stdout",
     "output_type": "stream",
     "text": [
      "Book added successfully.\n",
      "\n",
      "====== Library Menu ======\n",
      "1. Add Book\n",
      "2. Remove Book\n",
      "3. View All Books\n",
      "4. Issue Book\n",
      "5. Return Book\n",
      "6. View Issued Books\n",
      "7. Exit\n"
     ]
    },
    {
     "name": "stdin",
     "output_type": "stream",
     "text": [
      "Enter choice (1-7):  1\n",
      "Enter Book ID:  02\n",
      "Enter Book Title:  efg\n",
      "Enter Author:  efg\n"
     ]
    },
    {
     "name": "stdout",
     "output_type": "stream",
     "text": [
      "Book added successfully.\n",
      "\n",
      "====== Library Menu ======\n",
      "1. Add Book\n",
      "2. Remove Book\n",
      "3. View All Books\n",
      "4. Issue Book\n",
      "5. Return Book\n",
      "6. View Issued Books\n",
      "7. Exit\n"
     ]
    },
    {
     "name": "stdin",
     "output_type": "stream",
     "text": [
      "Enter choice (1-7):  3\n"
     ]
    },
    {
     "name": "stdout",
     "output_type": "stream",
     "text": [
      "\n",
      "Available Books:\n",
      "01: abc by abc\n",
      "02: efg by efg\n",
      "\n",
      "\n",
      "====== Library Menu ======\n",
      "1. Add Book\n",
      "2. Remove Book\n",
      "3. View All Books\n",
      "4. Issue Book\n",
      "5. Return Book\n",
      "6. View Issued Books\n",
      "7. Exit\n"
     ]
    },
    {
     "name": "stdin",
     "output_type": "stream",
     "text": [
      "Enter choice (1-7):  4\n",
      "Enter Book ID to issue:  01\n",
      "Enter Student Name:  sss\n"
     ]
    },
    {
     "name": "stdout",
     "output_type": "stream",
     "text": [
      "Book issued to sss on 2025-06-11.\n",
      "\n",
      "====== Library Menu ======\n",
      "1. Add Book\n",
      "2. Remove Book\n",
      "3. View All Books\n",
      "4. Issue Book\n",
      "5. Return Book\n",
      "6. View Issued Books\n",
      "7. Exit\n"
     ]
    },
    {
     "name": "stdin",
     "output_type": "stream",
     "text": [
      "Enter choice (1-7):  6\n"
     ]
    },
    {
     "name": "stdout",
     "output_type": "stream",
     "text": [
      "\n",
      "Issued Books:\n",
      "01 issued to sss on 2025-06-11\n",
      "\n",
      "\n",
      "====== Library Menu ======\n",
      "1. Add Book\n",
      "2. Remove Book\n",
      "3. View All Books\n",
      "4. Issue Book\n",
      "5. Return Book\n",
      "6. View Issued Books\n",
      "7. Exit\n"
     ]
    },
    {
     "name": "stdin",
     "output_type": "stream",
     "text": [
      "Enter choice (1-7):  5\n",
      "Enter Book ID to return:  01\n"
     ]
    },
    {
     "name": "stdout",
     "output_type": "stream",
     "text": [
      "Book returned. Days used: 0. Fine: ₹0\n",
      "\n",
      "====== Library Menu ======\n",
      "1. Add Book\n",
      "2. Remove Book\n",
      "3. View All Books\n",
      "4. Issue Book\n",
      "5. Return Book\n",
      "6. View Issued Books\n",
      "7. Exit\n"
     ]
    },
    {
     "name": "stdin",
     "output_type": "stream",
     "text": [
      "Enter choice (1-7):  7\n"
     ]
    },
    {
     "name": "stdout",
     "output_type": "stream",
     "text": [
      "Exiting system...\n"
     ]
    }
   ],
   "source": [
    "import json\n",
    "import os\n",
    "from datetime import datetime, timedelta\n",
    "\n",
    "BOOKS_FILE = \"books.json\"\n",
    "ISSUED_FILE = \"issued.json\"\n",
    "FINE_PER_DAY = 10\n",
    "ALLOWED_DAYS = 14\n",
    "\n",
    "\n",
    "def load_data(file_name):\n",
    "    if not os.path.exists(file_name):\n",
    "        return {}\n",
    "    with open(file_name, \"r\") as f:\n",
    "        return json.load(f)\n",
    "\n",
    "\n",
    "def save_data(file_name, data):\n",
    "    with open(file_name, \"w\") as f:\n",
    "        json.dump(data, f, indent=4)\n",
    "\n",
    "\n",
    "def add_book():\n",
    "    books = load_data(BOOKS_FILE)\n",
    "    book_id = input(\"Enter Book ID: \")\n",
    "    if book_id in books:\n",
    "        print(\"Book already exists.\")\n",
    "        return\n",
    "    title = input(\"Enter Book Title: \")\n",
    "    author = input(\"Enter Author: \")\n",
    "    books[book_id] = {\"title\": title, \"author\": author}\n",
    "    save_data(BOOKS_FILE, books)\n",
    "    print(\"Book added successfully.\")\n",
    "\n",
    "\n",
    "def remove_book():\n",
    "    books = load_data(BOOKS_FILE)\n",
    "    book_id = input(\"Enter Book ID to remove: \")\n",
    "    if book_id in books:\n",
    "        del books[book_id]\n",
    "        save_data(BOOKS_FILE, books)\n",
    "        print(\"Book removed.\")\n",
    "    else:\n",
    "        print(\"Book not found.\")\n",
    "\n",
    "\n",
    "def issue_book():\n",
    "    books = load_data(BOOKS_FILE)\n",
    "    issued = load_data(ISSUED_FILE)\n",
    "    book_id = input(\"Enter Book ID to issue: \")\n",
    "    if book_id not in books:\n",
    "        print(\"Book not found.\")\n",
    "        return\n",
    "    if book_id in issued:\n",
    "        print(\"Book already issued.\")\n",
    "        return\n",
    "    student_name = input(\"Enter Student Name: \")\n",
    "    issue_date = datetime.now().strftime(\"%Y-%m-%d\")\n",
    "    issued[book_id] = {\"student\": student_name, \"issue_date\": issue_date}\n",
    "    save_data(ISSUED_FILE, issued)\n",
    "    print(f\"Book issued to {student_name} on {issue_date}.\")\n",
    "\n",
    "\n",
    "def return_book():\n",
    "    issued = load_data(ISSUED_FILE)\n",
    "    book_id = input(\"Enter Book ID to return: \")\n",
    "    if book_id not in issued:\n",
    "        print(\"Book was not issued.\")\n",
    "        return\n",
    "    issue_date_str = issued[book_id][\"issue_date\"]\n",
    "    issue_date = datetime.strptime(issue_date_str, \"%Y-%m-%d\")\n",
    "    return_date = datetime.now()\n",
    "    days_used = (return_date - issue_date).days\n",
    "    fine = 0\n",
    "    if days_used > ALLOWED_DAYS:\n",
    "        fine = (days_used - ALLOWED_DAYS) * FINE_PER_DAY\n",
    "    del issued[book_id]\n",
    "    save_data(ISSUED_FILE, issued)\n",
    "    print(f\"Book returned. Days used: {days_used}. Fine: ₹{fine}\")\n",
    "\n",
    "\n",
    "def view_books():\n",
    "    books = load_data(BOOKS_FILE)\n",
    "    print(\"\\nAvailable Books:\")\n",
    "    for book_id, info in books.items():\n",
    "        print(f\"{book_id}: {info['title']} by {info['author']}\")\n",
    "    print()\n",
    "\n",
    "\n",
    "def view_issued_books():\n",
    "    issued = load_data(ISSUED_FILE)\n",
    "    print(\"\\nIssued Books:\")\n",
    "    for book_id, info in issued.items():\n",
    "        print(f\"{book_id} issued to {info['student']} on {info['issue_date']}\")\n",
    "    print()\n",
    "\n",
    "\n",
    "def menu():\n",
    "    while True:\n",
    "        print(\"\\n====== Library Menu ======\")\n",
    "        print(\"1. Add Book\")\n",
    "        print(\"2. Remove Book\")\n",
    "        print(\"3. View All Books\")\n",
    "        print(\"4. Issue Book\")\n",
    "        print(\"5. Return Book\")\n",
    "        print(\"6. View Issued Books\")\n",
    "        print(\"7. Exit\")\n",
    "        choice = input(\"Enter choice (1-7): \")\n",
    "\n",
    "        if choice == \"1\":\n",
    "            add_book()\n",
    "        elif choice == \"2\":\n",
    "            remove_book()\n",
    "        elif choice == \"3\":\n",
    "            view_books()\n",
    "        elif choice == \"4\":\n",
    "            issue_book()\n",
    "        elif choice == \"5\":\n",
    "            return_book()\n",
    "        elif choice == \"6\":\n",
    "            view_issued_books()\n",
    "        elif choice == \"7\":\n",
    "            print(\"Exiting system...\")\n",
    "            break\n",
    "        else:\n",
    "            print(\"Invalid choice. Try again.\")\n",
    "\n",
    "\n",
    "if __name__ == \"__main__\":\n",
    "    menu()\n"
   ]
  },
  {
   "cell_type": "code",
   "execution_count": null,
   "id": "7a78e0d9-27bd-430d-acea-b901ebecfb9a",
   "metadata": {},
   "outputs": [],
   "source": []
  }
 ],
 "metadata": {
  "kernelspec": {
   "display_name": "Python [conda env:base] *",
   "language": "python",
   "name": "conda-base-py"
  },
  "language_info": {
   "codemirror_mode": {
    "name": "ipython",
    "version": 3
   },
   "file_extension": ".py",
   "mimetype": "text/x-python",
   "name": "python",
   "nbconvert_exporter": "python",
   "pygments_lexer": "ipython3",
   "version": "3.12.7"
  }
 },
 "nbformat": 4,
 "nbformat_minor": 5
}
