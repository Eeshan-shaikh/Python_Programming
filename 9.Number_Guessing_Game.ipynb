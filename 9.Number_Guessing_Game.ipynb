{
 "cells": [
  {
   "cell_type": "code",
   "execution_count": 2,
   "id": "dfceb095-1caf-489d-bdfa-b1d9ff0ac4eb",
   "metadata": {},
   "outputs": [
    {
     "name": "stdout",
     "output_type": "stream",
     "text": [
      "🎲 Guess the Number (1 to 100)\n"
     ]
    },
    {
     "name": "stdin",
     "output_type": "stream",
     "text": [
      "Attempt 1: Enter your guess:  23\n"
     ]
    },
    {
     "name": "stdout",
     "output_type": "stream",
     "text": [
      "📉 Too low!\n"
     ]
    },
    {
     "name": "stdin",
     "output_type": "stream",
     "text": [
      "Attempt 2: Enter your guess:  56\n"
     ]
    },
    {
     "name": "stdout",
     "output_type": "stream",
     "text": [
      "📈 Too high!\n"
     ]
    },
    {
     "name": "stdin",
     "output_type": "stream",
     "text": [
      "Attempt 3: Enter your guess:  45\n"
     ]
    },
    {
     "name": "stdout",
     "output_type": "stream",
     "text": [
      "📈 Too high!\n"
     ]
    },
    {
     "name": "stdin",
     "output_type": "stream",
     "text": [
      "Attempt 4: Enter your guess:  30\n"
     ]
    },
    {
     "name": "stdout",
     "output_type": "stream",
     "text": [
      "🎉 Correct! You guessed it.\n"
     ]
    }
   ],
   "source": [
    "import random\n",
    "\n",
    "number = random.randint(1, 100)\n",
    "attempts = 0\n",
    "max_attempts = 7\n",
    "\n",
    "print(\"🎲 Guess the Number (1 to 100)\")\n",
    "\n",
    "while attempts < max_attempts:\n",
    "    try:\n",
    "        guess = int(input(f\"Attempt {attempts+1}: Enter your guess: \"))\n",
    "        attempts += 1\n",
    "\n",
    "        if guess == number:\n",
    "            print(\"🎉 Correct! You guessed it.\")\n",
    "            break\n",
    "        elif guess < number:\n",
    "            print(\"📉 Too low!\")\n",
    "        else:\n",
    "            print(\"📈 Too high!\")\n",
    "\n",
    "    except ValueError:\n",
    "        print(\"❌ Please enter a valid number.\")\n",
    "\n",
    "if attempts == max_attempts and guess != number:\n",
    "    print(f\"😢 Out of attempts! The number was {number}.\")\n"
   ]
  },
  {
   "cell_type": "code",
   "execution_count": null,
   "id": "78b567d8-854d-42b4-8be9-92b1d5fe9a57",
   "metadata": {},
   "outputs": [],
   "source": []
  }
 ],
 "metadata": {
  "kernelspec": {
   "display_name": "Python [conda env:base] *",
   "language": "python",
   "name": "conda-base-py"
  },
  "language_info": {
   "codemirror_mode": {
    "name": "ipython",
    "version": 3
   },
   "file_extension": ".py",
   "mimetype": "text/x-python",
   "name": "python",
   "nbconvert_exporter": "python",
   "pygments_lexer": "ipython3",
   "version": "3.12.7"
  }
 },
 "nbformat": 4,
 "nbformat_minor": 5
}
