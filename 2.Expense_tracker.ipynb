{
 "cells": [
  {
   "cell_type": "code",
   "execution_count": 1,
   "id": "dbb01b05-0b87-4f50-97cf-c1f78d242d30",
   "metadata": {},
   "outputs": [
    {
     "name": "stdout",
     "output_type": "stream",
     "text": [
      "\n",
      "===== Expense Tracker =====\n",
      "1. Add Expense\n",
      "2. Show Monthly Summary\n",
      "3. Show Chart\n",
      "4. Exit\n"
     ]
    },
    {
     "name": "stdin",
     "output_type": "stream",
     "text": [
      "Choose an option:  1\n",
      "Enter category (e.g., food, transport, etc.):  food 200\n",
      "Enter amount:  200\n",
      "Enter date (YYYY-MM-DD), leave empty for today:  \n"
     ]
    },
    {
     "name": "stdout",
     "output_type": "stream",
     "text": [
      "✅ Expense added!\n",
      "\n",
      "===== Expense Tracker =====\n",
      "1. Add Expense\n",
      "2. Show Monthly Summary\n",
      "3. Show Chart\n",
      "4. Exit\n"
     ]
    },
    {
     "name": "stdin",
     "output_type": "stream",
     "text": [
      "Choose an option:  2\n",
      "Enter month (YYYY-MM):  2025-06\n"
     ]
    },
    {
     "name": "stdout",
     "output_type": "stream",
     "text": [
      "\n",
      "📊 Expense Summary for 2025-06:\n",
      "food 200: ₹200.00\n",
      "\n",
      "===== Expense Tracker =====\n",
      "1. Add Expense\n",
      "2. Show Monthly Summary\n",
      "3. Show Chart\n",
      "4. Exit\n"
     ]
    },
    {
     "name": "stdin",
     "output_type": "stream",
     "text": [
      "Choose an option:  3\n",
      "Enter month (YYYY-MM):  2025-06\n"
     ]
    },
    {
     "name": "stdout",
     "output_type": "stream",
     "text": [
      "\n",
      "📊 Expense Summary for 2025-06:\n",
      "food 200: ₹200.00\n",
      "\n",
      "1. Pie Chart\n",
      "2. Bar Chart\n"
     ]
    },
    {
     "name": "stdin",
     "output_type": "stream",
     "text": [
      "Choose chart type (1 or 2):  2\n"
     ]
    },
    {
     "data": {
      "image/png": "[encoded data removed]",
      "text/plain": [
       "<Figure size 640x480 with 1 Axes>"
      ]
     },
     "metadata": {},
     "output_type": "display_data"
    },
    {
     "name": "stdout",
     "output_type": "stream",
     "text": [
      "\n",
      "===== Expense Tracker =====\n",
      "1. Add Expense\n",
      "2. Show Monthly Summary\n",
      "3. Show Chart\n",
      "4. Exit\n"
     ]
    },
    {
     "name": "stdin",
     "output_type": "stream",
     "text": [
      "Choose an option:  4\n"
     ]
    },
    {
     "name": "stdout",
     "output_type": "stream",
     "text": [
      "👋 Exiting Expense Tracker. Bye!\n"
     ]
    }
   ],
   "source": [
    "# import json\n",
    "import os\n",
    "from datetime import datetime\n",
    "from collections import defaultdict\n",
    "import matplotlib.pyplot as plt\n",
    "\n",
    "DATA_FILE = 'expenses.json'\n",
    "\n",
    "def load_data():\n",
    "    if not os.path.exists(DATA_FILE):\n",
    "        return []\n",
    "    with open(DATA_FILE, 'r') as f:\n",
    "        return json.load(f)\n",
    "\n",
    "def save_data(data):\n",
    "    with open(DATA_FILE, 'w') as f:\n",
    "        json.dump(data, f, indent=4)\n",
    "\n",
    "def add_expense():\n",
    "    category = input(\"Enter category (e.g., food, transport, etc.): \").strip()\n",
    "    amount = float(input(\"Enter amount: \"))\n",
    "    date_str = input(\"Enter date (YYYY-MM-DD), leave empty for today: \").strip()\n",
    "    date = date_str if date_str else datetime.today().strftime('%Y-%m-%d')\n",
    "\n",
    "    expense = {\"category\": category, \"amount\": amount, \"date\": date}\n",
    "    data = load_data()\n",
    "    data.append(expense)\n",
    "    save_data(data)\n",
    "    print(\"✅ Expense added!\")\n",
    "\n",
    "def monthly_summary():\n",
    "    data = load_data()\n",
    "    month = input(\"Enter month (YYYY-MM): \").strip()\n",
    "\n",
    "    summary = defaultdict(float)\n",
    "    for item in data:\n",
    "        if item[\"date\"].startswith(month):\n",
    "            summary[item[\"category\"]] += item[\"amount\"]\n",
    "\n",
    "    if not summary:\n",
    "        print(\"❌ No data for this month.\")\n",
    "        return\n",
    "\n",
    "    print(f\"\\n📊 Expense Summary for {month}:\")\n",
    "    for category, total in summary.items():\n",
    "        print(f\"{category}: ₹{total:.2f}\")\n",
    "\n",
    "    return summary\n",
    "\n",
    "def plot_summary():\n",
    "    summary = monthly_summary()\n",
    "    if not summary:\n",
    "        return\n",
    "\n",
    "    print(\"\\n1. Pie Chart\\n2. Bar Chart\")\n",
    "    choice = input(\"Choose chart type (1 or 2): \")\n",
    "\n",
    "    categories = list(summary.keys())\n",
    "    amounts = list(summary.values())\n",
    "\n",
    "    if choice == '1':\n",
    "        plt.pie(amounts, labels=categories, autopct='%1.1f%%')\n",
    "        plt.title(\"Monthly Expense Distribution\")\n",
    "    else:\n",
    "        plt.bar(categories, amounts, color='skyblue')\n",
    "        plt.title(\"Monthly Expense Summary\")\n",
    "        plt.xlabel(\"Category\")\n",
    "        plt.ylabel(\"Amount (₹)\")\n",
    "    plt.tight_layout()\n",
    "    plt.show()\n",
    "\n",
    "def main():\n",
    "    while True:\n",
    "        print(\"\\n===== Expense Tracker =====\")\n",
    "        print(\"1. Add Expense\")\n",
    "        print(\"2. Show Monthly Summary\")\n",
    "        print(\"3. Show Chart\")\n",
    "        print(\"4. Exit\")\n",
    "\n",
    "        choice = input(\"Choose an option: \")\n",
    "\n",
    "        if choice == '1':\n",
    "            add_expense()\n",
    "        elif choice == '2':\n",
    "            monthly_summary()\n",
    "        elif choice == '3':\n",
    "            plot_summary()\n",
    "        elif choice == '4':\n",
    "            print(\"👋 Exiting Expense Tracker. Bye!\")\n",
    "            break\n",
    "        else:\n",
    "            print(\"❌ Invalid choice, please try again.\")\n",
    "\n",
    "if __name__ == \"__main__\":\n",
    "    main()\n"
   ]
  },
  {
   "cell_type": "code",
   "execution_count": null,
   "id": "5a628aff-f66d-470d-83d8-49e037f7f70c",
   "metadata": {},
   "outputs": [],
   "source": []
  }
 ],
 "metadata": {
  "kernelspec": {
   "display_name": "Python [conda env:base] *",
   "language": "python",
   "name": "conda-base-py"
  },
  "language_info": {
   "codemirror_mode": {
    "name": "ipython",
    "version": 3
   },
   "file_extension": ".py",
   "mimetype": "text/x-python",
   "name": "python",
   "nbconvert_exporter": "python",
   "pygments_lexer": "ipython3",
   "version": "3.12.7"
  }
 },
 "nbformat": 4,
 "nbformat_minor": 5
}
