{
 "cells": [
  {
   "cell_type": "code",
   "execution_count": 1,
   "id": "1737e9c6-9cd0-4de7-8030-e3f77bf3ad4a",
   "metadata": {},
   "outputs": [
    {
     "name": "stdout",
     "output_type": "stream",
     "text": [
      "🤖 TamizhanBot: Hello! Ask me anything about Tamizhan Skills. Type 'exit' to quit.\n"
     ]
    },
    {
     "name": "stdin",
     "output_type": "stream",
     "text": [
      "🧑 You:  Do you have free demo courses?\n"
     ]
    },
    {
     "name": "stdout",
     "output_type": "stream",
     "text": [
      "🤖 TamizhanBot: We offer courses in Python, Web Dev, AI/ML, Data Science, UI/UX, and more.\n"
     ]
    },
    {
     "name": "stdin",
     "output_type": "stream",
     "text": [
      "🧑 You:  Where can I talk with other learners?\n"
     ]
    },
    {
     "name": "stdout",
     "output_type": "stream",
     "text": [
      "🤖 TamizhanBot: I'm sorry, I didn't understand that. Could you rephrase it?\n"
     ]
    },
    {
     "name": "stdin",
     "output_type": "stream",
     "text": [
      "🧑 You:  How do I pay?\n"
     ]
    },
    {
     "name": "stdout",
     "output_type": "stream",
     "text": [
      "🤖 TamizhanBot: We support UPI, credit/debit cards, and wallets via secure payment gateways.\n"
     ]
    },
    {
     "name": "stdin",
     "output_type": "stream",
     "text": [
      "🧑 You:  exit\n"
     ]
    },
    {
     "name": "stdout",
     "output_type": "stream",
     "text": [
      "🤖 TamizhanBot: Thank you for chatting. Goodbye!\n"
     ]
    }
   ],
   "source": [
    "import re\n",
    "\n",
    "# Preprocess input: lowercase, remove punctuation\n",
    "def preprocess(text):\n",
    "    text = text.lower()\n",
    "    text = re.sub(r\"[^\\w\\s]\", \"\", text)\n",
    "    return text\n",
    "\n",
    "# Intents and associated keywords\n",
    "intents = {\n",
    "    \"greeting\": [\"hello\", \"hi\", \"hey\", \"good morning\", \"good evening\"],\n",
    "    \"courses\": [\"courses\", \"available courses\", \"subjects\", \"topics\", \"classes\", \"learning options\"],\n",
    "    \"fees\": [\"fees\", \"price\", \"cost\", \"charges\", \"how much\", \"fee structure\"],\n",
    "    \"duration\": [\"duration\", \"how long\", \"length\", \"time period\"],\n",
    "    \"certificate\": [\"certificate\", \"certification\", \"proof\", \"certified\"],\n",
    "    \"enrollment\": [\"enroll\", \"registration\", \"signup\", \"register\", \"admission\"],\n",
    "    \"contact\": [\"contact\", \"email\", \"phone\", \"reach you\", \"whatsapp\"],\n",
    "    \"language\": [\"language\", \"tamil\", \"english\", \"medium\", \"spoken\"],\n",
    "    \"refund\": [\"refund\", \"money back\", \"cancel\", \"withdraw\", \"return policy\"],\n",
    "    \"internship\": [\"internship\", \"job\", \"placement\", \"career\", \"support\", \"employment\"],\n",
    "    \"thanks\": [\"thanks\", \"thank you\", \"thx\", \"appreciate it\"],\n",
    "    \"goodbye\": [\"bye\", \"goodbye\", \"see you\", \"take care\"],\n",
    "    \"platform\": [\"mobile\", \"website\", \"app\", \"android\", \"ios\", \"access\"],\n",
    "    \"difficulty\": [\"beginner\", \"intermediate\", \"advanced\", \"level\", \"hard\", \"easy\"],\n",
    "    \"start_date\": [\"start\", \"schedule\", \"begin\", \"starting\", \"when\"],\n",
    "    \"free_courses\": [\"free\", \"no cost\", \"demo\", \"trial\", \"sample course\"],\n",
    "    \"tech_support\": [\"issue\", \"problem\", \"help\", \"technical\", \"error\", \"login\"],\n",
    "    \"community\": [\"community\", \"group\", \"telegram\", \"discord\", \"forum\", \"network\"],\n",
    "    \"material\": [\"material\", \"notes\", \"resources\", \"pdf\", \"video\", \"content\"],\n",
    "    \"payment\": [\"payment\", \"pay\", \"upi\", \"card\", \"gateway\", \"method\"]\n",
    "}\n",
    "\n",
    "\n",
    "# Responses by intent\n",
    "responses = {\n",
    "    \"greeting\": \"Hello! How can I help you today?\",\n",
    "    \"courses\": \"We offer courses in Python, Web Dev, AI/ML, Data Science, UI/UX, and more.\",\n",
    "    \"fees\": \"Our courses are priced between ₹500 to ₹5000 based on their content and duration.\",\n",
    "    \"duration\": \"Courses are self-paced, typically lasting 4–12 weeks.\",\n",
    "    \"certificate\": \"Yes! A digital certificate is awarded after you complete your course.\",\n",
    "    \"enrollment\": \"You can enroll through our website. Just click the 'Enroll Now' button under your chosen course.\",\n",
    "    \"contact\": \"Reach us at support@tamizhanskills.in or WhatsApp us at +91-9876543210.\",\n",
    "    \"language\": \"Courses are available in both Tamil and English for easy understanding.\",\n",
    "    \"refund\": \"We offer a 7-day refund policy from the date of enrollment.\",\n",
    "    \"internship\": \"Yes! Some advanced courses come with internship opportunities and job support.\",\n",
    "    \"thanks\": \"You're welcome! 😊 Let me know if there's anything else.\",\n",
    "    \"goodbye\": \"Goodbye! Best of luck with your learning journey.\",\n",
    "    \"platform\": \"Our platform works smoothly on web browsers and is mobile-friendly. Android app is coming soon!\",\n",
    "    \"difficulty\": \"We offer beginner, intermediate, and advanced level courses. You can choose based on your skill level.\",\n",
    "    \"start_date\": \"All our courses are self-paced. You can start learning immediately after enrolling.\",\n",
    "    \"free_courses\": \"Yes! We have a few free demo and introductory courses. Check our website to explore them.\",\n",
    "    \"tech_support\": \"If you're facing issues, please email us at tech@tamizhanskills.in or contact support.\",\n",
    "    \"community\": \"Join our Telegram and Discord groups to interact with mentors and peers!\",\n",
    "    \"material\": \"Yes! You’ll get access to PDFs, recorded videos, assignments, and quizzes with most courses.\",\n",
    "    \"payment\": \"We support UPI, credit/debit cards, and wallets via secure payment gateways.\"\n",
    "}\n",
    "\n",
    "\n",
    "def chatbot():\n",
    "    print(\"🤖 TamizhanBot: Hello! Ask me anything about Tamizhan Skills. Type 'exit' to quit.\")\n",
    "    while True:\n",
    "        user_input = input(\"🧑 You: \")\n",
    "        if user_input.lower() == \"exit\":\n",
    "            print(\"🤖 TamizhanBot: Thank you for chatting. Goodbye!\")\n",
    "            break\n",
    "\n",
    "        processed_input = preprocess(user_input)\n",
    "        found = False\n",
    "\n",
    "        for intent, keywords in intents.items():\n",
    "            if any(keyword in processed_input for keyword in keywords):\n",
    "                print(\"🤖 TamizhanBot:\", responses[intent])\n",
    "                found = True\n",
    "                break\n",
    "\n",
    "        if not found:\n",
    "            print(\"🤖 TamizhanBot: I'm sorry, I didn't understand that. Could you rephrase it?\")\n",
    "\n",
    "chatbot()\n"
   ]
  },
  {
   "cell_type": "code",
   "execution_count": null,
   "id": "50ddd96c-5d8c-44dc-baa4-2c807b8b8482",
   "metadata": {},
   "outputs": [],
   "source": []
  }
 ],
 "metadata": {
  "kernelspec": {
   "display_name": "Python [conda env:base] *",
   "language": "python",
   "name": "conda-base-py"
  },
  "language_info": {
   "codemirror_mode": {
    "name": "ipython",
    "version": 3
   },
   "file_extension": ".py",
   "mimetype": "text/x-python",
   "name": "python",
   "nbconvert_exporter": "python",
   "pygments_lexer": "ipython3",
   "version": "3.12.7"
  }
 },
 "nbformat": 4,
 "nbformat_minor": 5
}
