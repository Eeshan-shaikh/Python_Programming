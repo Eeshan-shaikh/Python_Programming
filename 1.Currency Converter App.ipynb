{
 "cells": [
  {
   "cell_type": "code",
   "execution_count": 1,
   "id": "ab160cb7-e926-4972-bd7b-ea8efbf2dbb6",
   "metadata": {},
   "outputs": [],
   "source": [
    "import tkinter as tk\n",
    "from tkinter import ttk, messagebox\n",
    "import requests\n",
    "\n",
    "def fetch_conversion(amount, from_currency, to_currency):\n",
    "    try:\n",
    "        url = f\"https://api.frankfurter.app/latest?amount={amount}&from={from_currency}&to={to_currency}\"\n",
    "        response = requests.get(url)\n",
    "        data = response.json()\n",
    "\n",
    "        if \"rates\" in data and to_currency in data[\"rates\"]:\n",
    "            return round(data[\"rates\"][to_currency], 2)\n",
    "        else:\n",
    "            return \"Error: Invalid response.\"\n",
    "    except Exception as e:\n",
    "        return f\"Request Failed: {e}\"\n",
    "\n",
    "def convert():\n",
    "    try:\n",
    "        amount = float(entry_amount.get())\n",
    "        from_curr = combo_from.get()\n",
    "        to_curr = combo_to.get()\n",
    "\n",
    "        if not from_curr or not to_curr:\n",
    "            messagebox.showerror(\"Error\", \"Please select both currencies.\")\n",
    "            return\n",
    "\n",
    "        result = fetch_conversion(amount, from_curr, to_curr)\n",
    "        label_result.config(text=f\"{amount} {from_curr} = {result} {to_curr}\")\n",
    "    except ValueError:\n",
    "        messagebox.showerror(\"Error\", \"Enter a valid numeric amount.\")\n",
    "\n",
    "root = tk.Tk()\n",
    "root.title(\"Live Currency Converter\")\n",
    "root.geometry(\"320x260\")\n",
    "\n",
    "tk.Label(root, text=\"Amount\").pack(pady=5)\n",
    "entry_amount = tk.Entry(root)\n",
    "entry_amount.pack()\n",
    "\n",
    "tk.Label(root, text=\"From Currency\").pack(pady=5)\n",
    "combo_from = ttk.Combobox(root, values=[\"USD\", \"EUR\", \"INR\", \"GBP\", \"JPY\", \"AUD\", \"CAD\", \"CNY\"])\n",
    "combo_from.pack()\n",
    "\n",
    "tk.Label(root, text=\"To Currency\").pack(pady=5)\n",
    "combo_to = ttk.Combobox(root, values=[\"USD\", \"EUR\", \"INR\", \"GBP\", \"JPY\", \"AUD\", \"CAD\", \"CNY\"])\n",
    "combo_to.pack()\n",
    "\n",
    "tk.Button(root, text=\"Convert\", command=convert).pack(pady=15)\n",
    "label_result = tk.Label(root, text=\"\", font=(\"Arial\", 12, \"bold\"))\n",
    "label_result.pack()\n",
    "\n",
    "root.mainloop()\n"
   ]
  },
  {
   "cell_type": "code",
   "execution_count": null,
   "id": "84795063-e799-4f21-9183-5bd7eab933bc",
   "metadata": {},
   "outputs": [],
   "source": []
  }
 ],
 "metadata": {
  "kernelspec": {
   "display_name": "Python [conda env:base] *",
   "language": "python",
   "name": "conda-base-py"
  },
  "language_info": {
   "codemirror_mode": {
    "name": "ipython",
    "version": 3
   },
   "file_extension": ".py",
   "mimetype": "text/x-python",
   "name": "python",
   "nbconvert_exporter": "python",
   "pygments_lexer": "ipython3",
   "version": "3.12.7"
  }
 },
 "nbformat": 4,
 "nbformat_minor": 5
}
