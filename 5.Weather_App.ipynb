{
 "cells": [
  {
   "cell_type": "code",
   "execution_count": 1,
   "id": "55fd6067-4494-42c5-8568-531d06dfd816",
   "metadata": {},
   "outputs": [
    {
     "name": "stdout",
     "output_type": "stream",
     "text": [
      "Requirement already satisfied: requests in c:\\users\\shaik\\anaconda3\\lib\\site-packages (2.32.3)\n",
      "Requirement already satisfied: pillow in c:\\users\\shaik\\anaconda3\\lib\\site-packages (10.4.0)\n",
      "Requirement already satisfied: charset-normalizer<4,>=2 in c:\\users\\shaik\\anaconda3\\lib\\site-packages (from requests) (3.3.2)\n",
      "Requirement already satisfied: idna<4,>=2.5 in c:\\users\\shaik\\anaconda3\\lib\\site-packages (from requests) (3.7)\n",
      "Requirement already satisfied: urllib3<3,>=1.21.1 in c:\\users\\shaik\\anaconda3\\lib\\site-packages (from requests) (2.2.3)\n",
      "Requirement already satisfied: certifi>=2017.4.17 in c:\\users\\shaik\\anaconda3\\lib\\site-packages (from requests) (2025.1.31)\n",
      "Note: you may need to restart the kernel to use updated packages.\n"
     ]
    }
   ],
   "source": [
    "pip install requests pillow"
   ]
  },
  {
   "cell_type": "code",
   "execution_count": 3,
   "id": "58700b1c-6237-40b9-9087-8c88905a1f0c",
   "metadata": {},
   "outputs": [],
   "source": [
    "import tkinter as tk\n",
    "from tkinter import messagebox\n",
    "import requests\n",
    "from PIL import Image, ImageTk\n",
    "from io import BytesIO\n",
    "\n",
    "# Replace with your actual API key\n",
    "API_KEY = \"  \"\n",
    "BASE_URL = \"https://api.openweathermap.org/data/2.5/weather\"\n",
    "\n",
    "def get_weather():\n",
    "    city = city_entry.get()\n",
    "    if not city:\n",
    "        messagebox.showwarning(\"Input Error\", \"Please enter a city name.\")\n",
    "        return\n",
    "    \n",
    "    params = {\n",
    "        \"q\": city,\n",
    "        \"appid\": API_KEY,\n",
    "        \"units\": \"metric\"\n",
    "    }\n",
    "\n",
    "    try:\n",
    "        response = requests.get(BASE_URL, params=params)\n",
    "        data = response.json()\n",
    "\n",
    "        if data[\"cod\"] == 401:\n",
    "            messagebox.showerror(\"Invalid API Key\", \"Your API key is invalid. Please replace it with a valid key.\")\n",
    "            return\n",
    "        elif data[\"cod\"] != 200:\n",
    "            messagebox.showerror(\"Error\", f\"City not found: {city}\")\n",
    "            return\n",
    "\n",
    "\n",
    "        temp = data[\"main\"][\"temp\"]\n",
    "        humidity = data[\"main\"][\"humidity\"]\n",
    "        desc = data[\"weather\"][0][\"description\"]\n",
    "        icon_code = data[\"weather\"][0][\"icon\"]\n",
    "        icon_url = f\"http://openweathermap.org/img/wn/{icon_code}@2x.png\"\n",
    "\n",
    "        # Display weather info\n",
    "        result_label.config(\n",
    "            text=f\"Temperature: {temp}°C\\nHumidity: {humidity}%\\nDescription: {desc.title()}\"\n",
    "        )\n",
    "\n",
    "        # Display icon\n",
    "        icon_response = requests.get(icon_url)\n",
    "        icon_image = Image.open(BytesIO(icon_response.content))\n",
    "        icon_photo = ImageTk.PhotoImage(icon_image)\n",
    "        icon_label.config(image=icon_photo)\n",
    "        icon_label.image = icon_photo  # Keep reference\n",
    "\n",
    "    except requests.exceptions.RequestException as e:\n",
    "        messagebox.showerror(\"Error\", f\"Failed to retrieve data: {e}\")\n",
    "\n",
    "# GUI setup\n",
    "app = tk.Tk()\n",
    "app.title(\"Weather App\")\n",
    "app.geometry(\"350x400\")\n",
    "app.resizable(False, False)\n",
    "\n",
    "tk.Label(app, text=\"Enter City Name:\", font=(\"Helvetica\", 12)).pack(pady=10)\n",
    "\n",
    "city_entry = tk.Entry(app, font=(\"Helvetica\", 14), justify=\"center\")\n",
    "city_entry.pack(pady=5)\n",
    "\n",
    "tk.Button(app, text=\"Get Weather\", command=get_weather, font=(\"Helvetica\", 12)).pack(pady=10)\n",
    "\n",
    "icon_label = tk.Label(app)\n",
    "icon_label.pack(pady=10)\n",
    "\n",
    "result_label = tk.Label(app, text=\"\", font=(\"Helvetica\", 12), justify=\"center\")\n",
    "result_label.pack(pady=10)\n",
    "\n",
    "app.mainloop()\n"
   ]
  },
  {
   "cell_type": "code",
   "execution_count": null,
   "id": "13a7b4bf-86d8-47a8-88fa-844e4ea42703",
   "metadata": {},
   "outputs": [],
   "source": []
  }
 ],
 "metadata": {
  "kernelspec": {
   "display_name": "Python [conda env:base] *",
   "language": "python",
   "name": "conda-base-py"
  },
  "language_info": {
   "codemirror_mode": {
    "name": "ipython",
    "version": 3
   },
   "file_extension": ".py",
   "mimetype": "text/x-python",
   "name": "python",
   "nbconvert_exporter": "python",
   "pygments_lexer": "ipython3",
   "version": "3.12.7"
  }
 },
 "nbformat": 4,
 "nbformat_minor": 5
}
