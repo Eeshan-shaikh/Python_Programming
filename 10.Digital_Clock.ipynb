{
 "cells": [
  {
   "cell_type": "code",
   "execution_count": 5,
   "id": "03a813fe-2860-46ad-8e81-a39c4eeda0ae",
   "metadata": {},
   "outputs": [],
   "source": [
    "from tkinter import Label, Tk  \n",
    "import time  \n",
    "\n",
    "app = Tk()  \n",
    "app.title(\"🕒 Digital Clock\")  \n",
    "app.geometry(\"350x150\")  \n",
    "app.resizable(False, False)  \n",
    "app.configure(bg=\"black\")  \n",
    "\n",
    "# Clock label\n",
    "clock_label = Label(app, bg=\"black\", fg=\"cyan\", font=(\"Helvetica\", 40), relief='flat')  \n",
    "clock_label.place(x=20, y=20)\n",
    "\n",
    "# Date label\n",
    "date_label = Label(app, bg=\"black\", fg=\"white\", font=(\"Helvetica\", 18), relief='flat')  \n",
    "date_label.place(x=20, y=90)\n",
    "\n",
    "def update_time():\n",
    "    current_time = time.strftime(\"%H:%M:%S\")\n",
    "    current_date = time.strftime(\"%A, %d %B %Y\")  # Example: Thursday, 04 September 2025\n",
    "    clock_label.config(text=current_time)\n",
    "    date_label.config(text=current_date)\n",
    "    clock_label.after(1000, update_time)\n",
    "\n",
    "update_time()  \n",
    "app.mainloop()\n"
   ]
  },
  {
   "cell_type": "code",
   "execution_count": null,
   "id": "8e980cc9-57d5-4a5d-a5fc-62bddedfb222",
   "metadata": {},
   "outputs": [],
   "source": []
  }
 ],
 "metadata": {
  "kernelspec": {
   "display_name": "Python [conda env:base] *",
   "language": "python",
   "name": "conda-base-py"
  },
  "language_info": {
   "codemirror_mode": {
    "name": "ipython",
    "version": 3
   },
   "file_extension": ".py",
   "mimetype": "text/x-python",
   "name": "python",
   "nbconvert_exporter": "python",
   "pygments_lexer": "ipython3",
   "version": "3.12.7"
  }
 },
 "nbformat": 4,
 "nbformat_minor": 5
}
