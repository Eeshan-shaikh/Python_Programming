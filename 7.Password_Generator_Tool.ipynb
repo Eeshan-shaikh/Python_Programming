{
 "cells": [
  {
   "cell_type": "code",
   "execution_count": 1,
   "id": "dce8be12-5462-4ecb-b4e2-a4d8e55bb5fa",
   "metadata": {},
   "outputs": [
    {
     "name": "stdout",
     "output_type": "stream",
     "text": [
      "Requirement already satisfied: pyperclip in c:\\users\\shaik\\anaconda3\\lib\\site-packages (1.9.0)\n",
      "Note: you may need to restart the kernel to use updated packages.\n"
     ]
    }
   ],
   "source": [
    "pip install pyperclip"
   ]
  },
  {
   "cell_type": "code",
   "execution_count": 3,
   "id": "61699987-01c0-44d8-b5a4-51d7154daf6e",
   "metadata": {},
   "outputs": [
    {
     "name": "stdout",
     "output_type": "stream",
     "text": [
      "\n",
      "🔐 Welcome to the Password Generator CLI Tool 🔐\n",
      "\n",
      "Password length should be at least 8 characters\n"
     ]
    },
    {
     "name": "stdin",
     "output_type": "stream",
     "text": [
      "Enter desired password length:  8\n",
      "Include digits? (y/n):  y\n",
      "Include special characters? (y/n):  n\n"
     ]
    },
    {
     "name": "stdout",
     "output_type": "stream",
     "text": [
      "\n",
      "🛡️ Generated Password: 0ViETwWG\n",
      "\n"
     ]
    },
    {
     "name": "stdin",
     "output_type": "stream",
     "text": [
      "Save password to file? (y/n):  y\n"
     ]
    },
    {
     "name": "stdout",
     "output_type": "stream",
     "text": [
      "✅ Password saved to generated_password.txt\n"
     ]
    },
    {
     "name": "stdin",
     "output_type": "stream",
     "text": [
      "Copy password to clipboard? (y/n):  n\n"
     ]
    }
   ],
   "source": [
    "import string\n",
    "import random\n",
    "import pyperclip\n",
    "\n",
    "def generate_password(length, use_digits=True, use_special=True):\n",
    "    if length < 8:\n",
    "        raise ValueError(\"Password length should be at least 8 characters.\")\n",
    "\n",
    "    charset = string.ascii_letters  # a-zA-Z\n",
    "    if use_digits:\n",
    "        charset += string.digits     # 0-9\n",
    "    if use_special:\n",
    "        charset += string.punctuation  # !@#$%^&*()\n",
    "\n",
    "    secure_random = random.SystemRandom()\n",
    "    password = ''.join(secure_random.choice(charset) for _ in range(length))\n",
    "    return password\n",
    "\n",
    "def save_to_file(password, filename=\"generated_password.txt\"):\n",
    "    with open(filename, 'w') as f:\n",
    "        f.write(password)\n",
    "    print(f\"✅ Password saved to {filename}\")\n",
    "\n",
    "def main():\n",
    "    print(\"\\n🔐 Welcome to the Password Generator CLI Tool 🔐\")\n",
    "    print(\"\\nPassword length should be at least 8 characters\")\n",
    "\n",
    "    try:\n",
    "        length = int(input(\"Enter desired password length: \"))\n",
    "        use_digits = input(\"Include digits? (y/n): \").strip().lower() == 'y'\n",
    "        use_special = input(\"Include special characters? (y/n): \").strip().lower() == 'y'\n",
    "        \n",
    "        password = generate_password(length, use_digits, use_special)\n",
    "        print(f\"\\n🛡️ Generated Password: {password}\\n\")\n",
    "\n",
    "        # Optional actions\n",
    "        save = input(\"Save password to file? (y/n): \").strip().lower() == 'y'\n",
    "        if save:\n",
    "            save_to_file(password)\n",
    "\n",
    "        clip = input(\"Copy password to clipboard? (y/n): \").strip().lower() == 'y'\n",
    "        if clip:\n",
    "            pyperclip.copy(password)\n",
    "            print(\"📋 Password copied to clipboard!\")\n",
    "\n",
    "    except ValueError as ve:\n",
    "        print(f\"❌ Error: {ve}\")\n",
    "    except Exception as e:\n",
    "        print(f\"⚠️ Unexpected error: {e}\")\n",
    "\n",
    "if __name__ == \"__main__\":\n",
    "    main()\n"
   ]
  },
  {
   "cell_type": "code",
   "execution_count": null,
   "id": "c4dc04e5-6ddb-4aea-ab4a-2f8842949ff5",
   "metadata": {},
   "outputs": [],
   "source": []
  }
 ],
 "metadata": {
  "kernelspec": {
   "display_name": "Python [conda env:base] *",
   "language": "python",
   "name": "conda-base-py"
  },
  "language_info": {
   "codemirror_mode": {
    "name": "ipython",
    "version": 3
   },
   "file_extension": ".py",
   "mimetype": "text/x-python",
   "name": "python",
   "nbconvert_exporter": "python",
   "pygments_lexer": "ipython3",
   "version": "3.12.7"
  }
 },
 "nbformat": 4,
 "nbformat_minor": 5
}
